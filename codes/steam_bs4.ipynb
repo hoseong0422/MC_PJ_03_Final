{
 "cells": [
  {
   "cell_type": "code",
   "execution_count": 1,
   "metadata": {},
   "outputs": [],
   "source": [
    "import pandas as pd\n",
    "import numpy as np\n",
    "from bs4 import BeautifulSoup\n",
    "import requests"
   ]
  },
  {
   "cell_type": "code",
   "execution_count": 3,
   "metadata": {},
   "outputs": [],
   "source": [
    "appid = 271590\n",
    "URL = f\"https://store.steampowered.com/app/{appid}\"\n",
    "\n",
    "res = requests.get(URL)\n",
    "soup = BeautifulSoup(res.content, 'html.parser')\n"
   ]
  },
  {
   "cell_type": "code",
   "execution_count": 8,
   "metadata": {},
   "outputs": [],
   "source": [
    "detail = soup.select_one(\"#genresAndManufacturer\").text"
   ]
  },
  {
   "cell_type": "code",
   "execution_count": 17,
   "metadata": {},
   "outputs": [],
   "source": [
    "detail_temp = detail.split(\"\\n\")\n",
    "\n",
    "detail_list = []\n",
    "for dt in detail_temp:\n",
    "    detail_list.append(dt.split(\":\"))\n",
    "\n",
    "for i in range(len(detail_list)):\n",
    "    if detail_list[i][0] == \"Title\":\n",
    "        title = detail_list[i][1]\n",
    "    elif detail_list[i][1:] == \"Genre\":\n",
    "        genre = detail_list[i][1]\n",
    "    elif detail_list[i][0] == \"Developer\":\n",
    "        developer = detail_list[i+1][0]\n",
    "    elif detail_list[i][0] == \"Publisher\":\n",
    "        publisher = detail_list[i+1][0]\n",
    "    elif detail_list[i][0] == \"Franchise\":\n",
    "        franchise = detail_list[i+1][0]\n",
    "    elif detail_list[i][0] == \"Release Date\":\n",
    "        release_date = detail_list[i][1]\n",
    "\n",
    "try: \n",
    "    publisher\n",
    "except:\n",
    "    publisher = \"0\"\n",
    "\n",
    "try: \n",
    "    franchise\n",
    "except:\n",
    "    franchise = \"0\"\n",
    "\n",
    "try:\n",
    "    recent_reviews = soup.select_one(\"#userReviews > div:nth-child(1) > div.summary.column > span\").text\n",
    "except:\n",
    "    recent_reviews = \"0\"\n",
    "    \n",
    "try:    \n",
    "    recent_reviews_temp = soup.select_one('#userReviews > div:nth-child(1) > div.summary.column > span.nonresponsive_hidden.responsive_reviewdesc')\n",
    "    # recent_reviews 평가 비율(최근 30일)\n",
    "except:\n",
    "    recent_reviews_ratio = \"0\"\n",
    "    recent_reviews_voted_users = \"0\"\n",
    "try:\n",
    "    recent_reviews_ratio = soup.select_one(\"#userReviews > div:nth-child(1) > div.summary.column > span.nonresponsive_hidden.responsive_reviewdesc\").text.split()[1].replace(\"%\",\"\")\n",
    "    if recent_reviews_ratio == \"Need\":\n",
    "        recent_reviews_ratio = \"0\"\n",
    "        \n",
    "except:\n",
    "    recent_reviews_ratio = \"0\"\n",
    "    # recent_reviews 점수를 준 유저 수(최근 30일)\n",
    "try:\n",
    "    recent_reviews_voted_users = soup.select_one(\"#userReviews > div:nth-child(1) > div.summary.column > span.nonresponsive_hidden.responsive_reviewdesc\").text.split()[4].replace(\",\",\"\")\n",
    "    if recent_reviews_voted_users == \"reviews\":\n",
    "        recent_reviews_voted_users = \"0\"\n",
    "except:\n",
    "    recent_reviews_voted_users = \"0\"\n",
    "    \n",
    "# 전체기간 유저 평가 신작 게임은 없는 경우가 있다.\n",
    "try:\n",
    "    all_reviews = soup.select_one(\"#userReviews > div:nth-child(2) > div.summary.column > span.game_review_summary.positive\").text\n",
    "except:\n",
    "    all_reviews = \"0\"\n",
    "    \n",
    "try:\n",
    "    all_reviews_temp = soup.select_one('#userReviews > div:nth-child(2) > div.summary.column > span.nonresponsive_hidden.responsive_reviewdesc')\n",
    "except:\n",
    "    all_reviews_ratio = \"0\"\n",
    "    all_reviews_voted_users = \"0\"\n",
    "try:\n",
    "    # 전체기간 유저 평가 비율\n",
    "    all_reviews_ratio = soup.select_one(\"#userReviews > div:nth-child(2) > div.summary.column > span.nonresponsive_hidden.responsive_reviewdesc\").text.split()[1].replace(\"%\", \"\")\n",
    "except:\n",
    "    all_reviews_ratio = \"0\"\n",
    "    # 전체기간 유저 점수를 준 유저 수\n",
    "try:\n",
    "    all_reviews_voted_users = soup.select_one(\"#userReviews > div:nth-child(2) > div.summary.column > span.nonresponsive_hidden.responsive_reviewdesc\").text.split()[4].replace(\",\",\"\")\n",
    "except:\n",
    "    all_reviews_voted_users = \"0\"\n",
    "\n",
    "#image link\n",
    "try:\n",
    "    image_link = soup.select_one(\"img.game_header_image_full\")[\"src\"]\n",
    "except:\n",
    "    image_link = \"0\"\n",
    "\n",
    "# grade\n",
    "try:\n",
    "    grade = soup.select_one(\"div.game_rating_icon > img\")[\"src\"].split(\"/\")[-1].split(\".\")[0]\n",
    "except:\n",
    "    grade = \"0\"\n",
    "\n",
    "# info\n",
    "try:\n",
    "    info_group = soup.select(\"div.label\")\n",
    "    info_list = [i.text for i in info_group]\n",
    "except:\n",
    "    info_list = [\"0\"]\n",
    "\n",
    "# tag\n",
    "try:\n",
    "    tag_group = soup.select(\"a.app_tag\")\n",
    "    tag_list = [i.text for i in info_group]\n",
    "except:\n",
    "    tag_list = [\"0\"]\n",
    "\n",
    "# about_this_game\n",
    "try:\n",
    "    about_this_game = soup.select_one(\"#game_area_description\").text.replace(\"\\n\\n\",\" \").replace(\"\\n\", \" \")[16:].strip()\n",
    "except:\n",
    "    about_this_game = \"0\""
   ]
  },
  {
   "cell_type": "code",
   "execution_count": 104,
   "metadata": {},
   "outputs": [
    {
     "data": {
      "text/plain": [
       "[<tr class=\"\" style=\"\">\n",
       " <td class=\"ellipsis\" style=\"width: 94px; text-align: left\">\n",
       " \t\t\t\tEnglish\t\t\t</td>\n",
       " <td class=\"checkcol\">\n",
       " <span>✔</span> </td>\n",
       " <td class=\"checkcol\">\n",
       " <span>✔</span> </td>\n",
       " <td class=\"checkcol\">\n",
       " <span>✔</span> </td>\n",
       " </tr>,\n",
       " <tr class=\"\" style=\"\">\n",
       " <td class=\"ellipsis\" style=\"width: 94px; text-align: left\">\n",
       " \t\t\t\tFrench\t\t\t</td>\n",
       " <td class=\"checkcol\">\n",
       " <span>✔</span> </td>\n",
       " <td class=\"checkcol\">\n",
       " </td>\n",
       " <td class=\"checkcol\">\n",
       " <span>✔</span> </td>\n",
       " </tr>,\n",
       " <tr class=\"\" style=\"\">\n",
       " <td class=\"ellipsis\" style=\"width: 94px; text-align: left\">\n",
       " \t\t\t\tItalian\t\t\t</td>\n",
       " <td class=\"checkcol\">\n",
       " <span>✔</span> </td>\n",
       " <td class=\"checkcol\">\n",
       " </td>\n",
       " <td class=\"checkcol\">\n",
       " <span>✔</span> </td>\n",
       " </tr>,\n",
       " <tr class=\"\" style=\"\">\n",
       " <td class=\"ellipsis\" style=\"width: 94px; text-align: left\">\n",
       " \t\t\t\tGerman\t\t\t</td>\n",
       " <td class=\"checkcol\">\n",
       " <span>✔</span> </td>\n",
       " <td class=\"checkcol\">\n",
       " </td>\n",
       " <td class=\"checkcol\">\n",
       " <span>✔</span> </td>\n",
       " </tr>,\n",
       " <tr class=\"\" style=\"\">\n",
       " <td class=\"ellipsis\" style=\"width: 94px; text-align: left\">\n",
       " \t\t\t\tSpanish - Spain\t\t\t</td>\n",
       " <td class=\"checkcol\">\n",
       " <span>✔</span> </td>\n",
       " <td class=\"checkcol\">\n",
       " </td>\n",
       " <td class=\"checkcol\">\n",
       " <span>✔</span> </td>\n",
       " </tr>,\n",
       " <tr class=\"\" style=\"display: none;\">\n",
       " <td class=\"ellipsis\" style=\"width: 94px; text-align: left\">\n",
       " \t\t\t\tKorean\t\t\t</td>\n",
       " <td class=\"checkcol\">\n",
       " <span>✔</span> </td>\n",
       " <td class=\"checkcol\">\n",
       " </td>\n",
       " <td class=\"checkcol\">\n",
       " <span>✔</span> </td>\n",
       " </tr>,\n",
       " <tr class=\"\" style=\"display: none;\">\n",
       " <td class=\"ellipsis\" style=\"width: 94px; text-align: left\">\n",
       " \t\t\t\tPolish\t\t\t</td>\n",
       " <td class=\"checkcol\">\n",
       " <span>✔</span> </td>\n",
       " <td class=\"checkcol\">\n",
       " </td>\n",
       " <td class=\"checkcol\">\n",
       " <span>✔</span> </td>\n",
       " </tr>,\n",
       " <tr class=\"\" style=\"display: none;\">\n",
       " <td class=\"ellipsis\" style=\"width: 94px; text-align: left\">\n",
       " \t\t\t\tPortuguese - Brazil\t\t\t</td>\n",
       " <td class=\"checkcol\">\n",
       " <span>✔</span> </td>\n",
       " <td class=\"checkcol\">\n",
       " </td>\n",
       " <td class=\"checkcol\">\n",
       " <span>✔</span> </td>\n",
       " </tr>,\n",
       " <tr class=\"\" style=\"display: none;\">\n",
       " <td class=\"ellipsis\" style=\"width: 94px; text-align: left\">\n",
       " \t\t\t\tRussian\t\t\t</td>\n",
       " <td class=\"checkcol\">\n",
       " <span>✔</span> </td>\n",
       " <td class=\"checkcol\">\n",
       " </td>\n",
       " <td class=\"checkcol\">\n",
       " <span>✔</span> </td>\n",
       " </tr>,\n",
       " <tr class=\"\" style=\"display: none;\">\n",
       " <td class=\"ellipsis\" style=\"width: 94px; text-align: left\">\n",
       " \t\t\t\tTraditional Chinese\t\t\t</td>\n",
       " <td class=\"checkcol\">\n",
       " <span>✔</span> </td>\n",
       " <td class=\"checkcol\">\n",
       " </td>\n",
       " <td class=\"checkcol\">\n",
       " <span>✔</span> </td>\n",
       " </tr>,\n",
       " <tr class=\"\" style=\"display: none;\">\n",
       " <td class=\"ellipsis\" style=\"width: 94px; text-align: left\">\n",
       " \t\t\t\tJapanese\t\t\t</td>\n",
       " <td class=\"checkcol\">\n",
       " <span>✔</span> </td>\n",
       " <td class=\"checkcol\">\n",
       " </td>\n",
       " <td class=\"checkcol\">\n",
       " <span>✔</span> </td>\n",
       " </tr>,\n",
       " <tr class=\"\" style=\"display: none;\">\n",
       " <td class=\"ellipsis\" style=\"width: 94px; text-align: left\">\n",
       " \t\t\t\tSimplified Chinese\t\t\t</td>\n",
       " <td class=\"checkcol\">\n",
       " <span>✔</span> </td>\n",
       " <td class=\"checkcol\">\n",
       " </td>\n",
       " <td class=\"checkcol\">\n",
       " <span>✔</span> </td>\n",
       " </tr>,\n",
       " <tr class=\"\" style=\"display: none;\">\n",
       " <td class=\"ellipsis\" style=\"width: 94px; text-align: left\">\n",
       " \t\t\t\tSpanish - Latin America\t\t\t</td>\n",
       " <td class=\"checkcol\">\n",
       " <span>✔</span> </td>\n",
       " <td class=\"checkcol\">\n",
       " </td>\n",
       " <td class=\"checkcol\">\n",
       " <span>✔</span> </td>\n",
       " </tr>]"
      ]
     },
     "execution_count": 104,
     "metadata": {},
     "output_type": "execute_result"
    }
   ],
   "source": [
    "language_group = soup.select(\"#languageTable > table > tr\")\n",
    "parsed_language = language_group[1:]\n",
    "parsed_language"
   ]
  },
  {
   "cell_type": "code",
   "execution_count": 105,
   "metadata": {},
   "outputs": [],
   "source": [
    "language_list = []\n",
    "for i in parsed_language:\n",
    "    language_list.append(i.select_one(\"td.ellipsis\").text.strip())"
   ]
  },
  {
   "cell_type": "code",
   "execution_count": 147,
   "metadata": {},
   "outputs": [
    {
     "data": {
      "text/plain": [
       "<tr class=\"\" style=\"\">\n",
       "<td class=\"ellipsis\" style=\"width: 94px; text-align: left\">\n",
       "\t\t\t\tEnglish\t\t\t</td>\n",
       "<td class=\"checkcol\">\n",
       "<span>✔</span> </td>\n",
       "<td class=\"checkcol\">\n",
       "<span>✔</span> </td>\n",
       "<td class=\"checkcol\">\n",
       "<span>✔</span> </td>\n",
       "</tr>"
      ]
     },
     "execution_count": 147,
     "metadata": {},
     "output_type": "execute_result"
    }
   ],
   "source": [
    "parsed_language[0]"
   ]
  },
  {
   "cell_type": "code",
   "execution_count": 149,
   "metadata": {},
   "outputs": [
    {
     "name": "stdout",
     "output_type": "stream",
     "text": [
      "['English', 'French', 'Italian', 'German', 'Spanish - Spain', 'Korean', 'Polish', 'Portuguese - Brazil', 'Russian', 'Traditional Chinese', 'Japanese', 'Simplified Chinese', 'Spanish - Latin America']\n"
     ]
    }
   ],
   "source": [
    "interface_list = []\n",
    "for i in range(len(language_list)):\n",
    "    if parsed_language[i].select_one(\"td.checkcol > span\").text == \"✔\":\n",
    "        interface_list.append(language_list[i])\n",
    "\n",
    "print(interface_list)\n"
   ]
  },
  {
   "cell_type": "code",
   "execution_count": 151,
   "metadata": {},
   "outputs": [
    {
     "ename": "SelectorSyntaxError",
     "evalue": "Invalid syntax for pseudo class ':nth-child'\n  line 1:\n#languageTable > table > tbody > tr:nth-child() > td:nth-child(3)\n                                   ^",
     "output_type": "error",
     "traceback": [
      "\u001b[0;31m---------------------------------------------------------------------------\u001b[0m",
      "\u001b[0;31mSelectorSyntaxError\u001b[0m                       Traceback (most recent call last)",
      "\u001b[1;32m/Users/hoseong/Documents/final/steam_bs4.ipynb Cell 9'\u001b[0m in \u001b[0;36m<cell line: 2>\u001b[0;34m()\u001b[0m\n\u001b[1;32m      <a href='vscode-notebook-cell:/Users/hoseong/Documents/final/steam_bs4.ipynb#ch0000025?line=0'>1</a>\u001b[0m fullaudio_list \u001b[39m=\u001b[39m []\n\u001b[1;32m      <a href='vscode-notebook-cell:/Users/hoseong/Documents/final/steam_bs4.ipynb#ch0000025?line=1'>2</a>\u001b[0m \u001b[39mfor\u001b[39;00m i \u001b[39min\u001b[39;00m \u001b[39mrange\u001b[39m(\u001b[39mlen\u001b[39m(language_list)):\n\u001b[0;32m----> <a href='vscode-notebook-cell:/Users/hoseong/Documents/final/steam_bs4.ipynb#ch0000025?line=2'>3</a>\u001b[0m     \u001b[39mif\u001b[39;00m parsed_language[i]\u001b[39m.\u001b[39;49mselect_one(\u001b[39m\"\u001b[39;49m\u001b[39m#languageTable > table > tbody > tr:nth-child() > td:nth-child(3)\u001b[39;49m\u001b[39m\"\u001b[39;49m)\u001b[39m.\u001b[39mtext \u001b[39m==\u001b[39m \u001b[39m\"\u001b[39m\u001b[39m✔\u001b[39m\u001b[39m\"\u001b[39m:\n\u001b[1;32m      <a href='vscode-notebook-cell:/Users/hoseong/Documents/final/steam_bs4.ipynb#ch0000025?line=3'>4</a>\u001b[0m         fullaudio_list\u001b[39m.\u001b[39mappend(language_list[i])\n\u001b[1;32m      <a href='vscode-notebook-cell:/Users/hoseong/Documents/final/steam_bs4.ipynb#ch0000025?line=5'>6</a>\u001b[0m \u001b[39mprint\u001b[39m(fullaudio_list)\n",
      "File \u001b[0;32m~/opt/anaconda3/lib/python3.9/site-packages/bs4/element.py:1938\u001b[0m, in \u001b[0;36mTag.select_one\u001b[0;34m(self, selector, namespaces, **kwargs)\u001b[0m\n\u001b[1;32m   1922\u001b[0m \u001b[39mdef\u001b[39;00m \u001b[39mselect_one\u001b[39m(\u001b[39mself\u001b[39m, selector, namespaces\u001b[39m=\u001b[39m\u001b[39mNone\u001b[39;00m, \u001b[39m*\u001b[39m\u001b[39m*\u001b[39mkwargs):\n\u001b[1;32m   1923\u001b[0m     \u001b[39m\"\"\"Perform a CSS selection operation on the current element.\u001b[39;00m\n\u001b[1;32m   1924\u001b[0m \n\u001b[1;32m   1925\u001b[0m \u001b[39m    :param selector: A CSS selector.\u001b[39;00m\n\u001b[0;32m   (...)\u001b[0m\n\u001b[1;32m   1936\u001b[0m \u001b[39m    :rtype: bs4.element.Tag\u001b[39;00m\n\u001b[1;32m   1937\u001b[0m \u001b[39m    \"\"\"\u001b[39;00m\n\u001b[0;32m-> 1938\u001b[0m     value \u001b[39m=\u001b[39m \u001b[39mself\u001b[39;49m\u001b[39m.\u001b[39;49mselect(selector, namespaces, \u001b[39m1\u001b[39;49m, \u001b[39m*\u001b[39;49m\u001b[39m*\u001b[39;49mkwargs)\n\u001b[1;32m   1939\u001b[0m     \u001b[39mif\u001b[39;00m value:\n\u001b[1;32m   1940\u001b[0m         \u001b[39mreturn\u001b[39;00m value[\u001b[39m0\u001b[39m]\n",
      "File \u001b[0;32m~/opt/anaconda3/lib/python3.9/site-packages/bs4/element.py:1973\u001b[0m, in \u001b[0;36mTag.select\u001b[0;34m(self, selector, namespaces, limit, **kwargs)\u001b[0m\n\u001b[1;32m   1968\u001b[0m \u001b[39mif\u001b[39;00m soupsieve \u001b[39mis\u001b[39;00m \u001b[39mNone\u001b[39;00m:\n\u001b[1;32m   1969\u001b[0m     \u001b[39mraise\u001b[39;00m \u001b[39mNotImplementedError\u001b[39;00m(\n\u001b[1;32m   1970\u001b[0m         \u001b[39m\"\u001b[39m\u001b[39mCannot execute CSS selectors because the soupsieve package is not installed.\u001b[39m\u001b[39m\"\u001b[39m\n\u001b[1;32m   1971\u001b[0m     )\n\u001b[0;32m-> 1973\u001b[0m results \u001b[39m=\u001b[39m soupsieve\u001b[39m.\u001b[39;49mselect(selector, \u001b[39mself\u001b[39;49m, namespaces, limit, \u001b[39m*\u001b[39;49m\u001b[39m*\u001b[39;49mkwargs)\n\u001b[1;32m   1975\u001b[0m \u001b[39m# We do this because it's more consistent and because\u001b[39;00m\n\u001b[1;32m   1976\u001b[0m \u001b[39m# ResultSet.__getattr__ has a helpful error message.\u001b[39;00m\n\u001b[1;32m   1977\u001b[0m \u001b[39mreturn\u001b[39;00m ResultSet(\u001b[39mNone\u001b[39;00m, results)\n",
      "File \u001b[0;32m~/opt/anaconda3/lib/python3.9/site-packages/soupsieve/__init__.py:144\u001b[0m, in \u001b[0;36mselect\u001b[0;34m(select, tag, namespaces, limit, flags, custom, **kwargs)\u001b[0m\n\u001b[1;32m    132\u001b[0m \u001b[39mdef\u001b[39;00m \u001b[39mselect\u001b[39m(\n\u001b[1;32m    133\u001b[0m     select: \u001b[39mstr\u001b[39m,\n\u001b[1;32m    134\u001b[0m     tag: \u001b[39m'\u001b[39m\u001b[39mbs4.Tag\u001b[39m\u001b[39m'\u001b[39m,\n\u001b[0;32m   (...)\u001b[0m\n\u001b[1;32m    140\u001b[0m     \u001b[39m*\u001b[39m\u001b[39m*\u001b[39mkwargs: Any\n\u001b[1;32m    141\u001b[0m ) \u001b[39m-\u001b[39m\u001b[39m>\u001b[39m List[\u001b[39m'\u001b[39m\u001b[39mbs4.Tag\u001b[39m\u001b[39m'\u001b[39m]:\n\u001b[1;32m    142\u001b[0m     \u001b[39m\"\"\"Select the specified tags.\"\"\"\u001b[39;00m\n\u001b[0;32m--> 144\u001b[0m     \u001b[39mreturn\u001b[39;00m \u001b[39mcompile\u001b[39;49m(select, namespaces, flags, \u001b[39m*\u001b[39;49m\u001b[39m*\u001b[39;49mkwargs)\u001b[39m.\u001b[39mselect(tag, limit)\n",
      "File \u001b[0;32m~/opt/anaconda3/lib/python3.9/site-packages/soupsieve/__init__.py:67\u001b[0m, in \u001b[0;36mcompile\u001b[0;34m(pattern, namespaces, flags, custom, **kwargs)\u001b[0m\n\u001b[1;32m     64\u001b[0m         \u001b[39mraise\u001b[39;00m \u001b[39mValueError\u001b[39;00m(\u001b[39m\"\u001b[39m\u001b[39mCannot process \u001b[39m\u001b[39m'\u001b[39m\u001b[39mcustom\u001b[39m\u001b[39m'\u001b[39m\u001b[39m argument on a compiled selector list\u001b[39m\u001b[39m\"\u001b[39m)\n\u001b[1;32m     65\u001b[0m     \u001b[39mreturn\u001b[39;00m pattern\n\u001b[0;32m---> 67\u001b[0m \u001b[39mreturn\u001b[39;00m cp\u001b[39m.\u001b[39;49m_cached_css_compile(pattern, ns, cs, flags)\n",
      "File \u001b[0;32m~/opt/anaconda3/lib/python3.9/site-packages/soupsieve/css_parser.py:218\u001b[0m, in \u001b[0;36m_cached_css_compile\u001b[0;34m(pattern, namespaces, custom, flags)\u001b[0m\n\u001b[1;32m    213\u001b[0m \u001b[39m\"\"\"Cached CSS compile.\"\"\"\u001b[39;00m\n\u001b[1;32m    215\u001b[0m custom_selectors \u001b[39m=\u001b[39m process_custom(custom)\n\u001b[1;32m    216\u001b[0m \u001b[39mreturn\u001b[39;00m cm\u001b[39m.\u001b[39mSoupSieve(\n\u001b[1;32m    217\u001b[0m     pattern,\n\u001b[0;32m--> 218\u001b[0m     CSSParser(\n\u001b[1;32m    219\u001b[0m         pattern,\n\u001b[1;32m    220\u001b[0m         custom\u001b[39m=\u001b[39;49mcustom_selectors,\n\u001b[1;32m    221\u001b[0m         flags\u001b[39m=\u001b[39;49mflags\n\u001b[1;32m    222\u001b[0m     )\u001b[39m.\u001b[39;49mprocess_selectors(),\n\u001b[1;32m    223\u001b[0m     namespaces,\n\u001b[1;32m    224\u001b[0m     custom,\n\u001b[1;32m    225\u001b[0m     flags\n\u001b[1;32m    226\u001b[0m )\n",
      "File \u001b[0;32m~/opt/anaconda3/lib/python3.9/site-packages/soupsieve/css_parser.py:1159\u001b[0m, in \u001b[0;36mCSSParser.process_selectors\u001b[0;34m(self, index, flags)\u001b[0m\n\u001b[1;32m   1156\u001b[0m \u001b[39mdef\u001b[39;00m \u001b[39mprocess_selectors\u001b[39m(\u001b[39mself\u001b[39m, index: \u001b[39mint\u001b[39m \u001b[39m=\u001b[39m \u001b[39m0\u001b[39m, flags: \u001b[39mint\u001b[39m \u001b[39m=\u001b[39m \u001b[39m0\u001b[39m) \u001b[39m-\u001b[39m\u001b[39m>\u001b[39m ct\u001b[39m.\u001b[39mSelectorList:\n\u001b[1;32m   1157\u001b[0m     \u001b[39m\"\"\"Process selectors.\"\"\"\u001b[39;00m\n\u001b[0;32m-> 1159\u001b[0m     \u001b[39mreturn\u001b[39;00m \u001b[39mself\u001b[39;49m\u001b[39m.\u001b[39;49mparse_selectors(\u001b[39mself\u001b[39;49m\u001b[39m.\u001b[39;49mselector_iter(\u001b[39mself\u001b[39;49m\u001b[39m.\u001b[39;49mpattern), index, flags)\n",
      "File \u001b[0;32m~/opt/anaconda3/lib/python3.9/site-packages/soupsieve/css_parser.py:993\u001b[0m, in \u001b[0;36mCSSParser.parse_selectors\u001b[0;34m(self, iselector, index, flags)\u001b[0m\n\u001b[1;32m    991\u001b[0m     has_selector \u001b[39m=\u001b[39m \u001b[39mself\u001b[39m\u001b[39m.\u001b[39mparse_pseudo_class_custom(sel, m, has_selector)\n\u001b[1;32m    992\u001b[0m \u001b[39melif\u001b[39;00m key \u001b[39m==\u001b[39m \u001b[39m'\u001b[39m\u001b[39mpseudo_class\u001b[39m\u001b[39m'\u001b[39m:\n\u001b[0;32m--> 993\u001b[0m     has_selector, is_html \u001b[39m=\u001b[39m \u001b[39mself\u001b[39;49m\u001b[39m.\u001b[39;49mparse_pseudo_class(sel, m, has_selector, iselector, is_html)\n\u001b[1;32m    994\u001b[0m \u001b[39melif\u001b[39;00m key \u001b[39m==\u001b[39m \u001b[39m'\u001b[39m\u001b[39mpseudo_element\u001b[39m\u001b[39m'\u001b[39m:\n\u001b[1;32m    995\u001b[0m     \u001b[39mraise\u001b[39;00m \u001b[39mNotImplementedError\u001b[39;00m(\u001b[39m\"\u001b[39m\u001b[39mPseudo-element found at position \u001b[39m\u001b[39m{}\u001b[39;00m\u001b[39m\"\u001b[39m\u001b[39m.\u001b[39mformat(m\u001b[39m.\u001b[39mstart(\u001b[39m0\u001b[39m)))\n",
      "File \u001b[0;32m~/opt/anaconda3/lib/python3.9/site-packages/soupsieve/css_parser.py:664\u001b[0m, in \u001b[0;36mCSSParser.parse_pseudo_class\u001b[0;34m(self, sel, m, has_selector, iselector, is_html)\u001b[0m\n\u001b[1;32m    662\u001b[0m     has_selector \u001b[39m=\u001b[39m \u001b[39mTrue\u001b[39;00m\n\u001b[1;32m    663\u001b[0m \u001b[39melif\u001b[39;00m pseudo \u001b[39min\u001b[39;00m PSEUDO_SUPPORTED:\n\u001b[0;32m--> 664\u001b[0m     \u001b[39mraise\u001b[39;00m SelectorSyntaxError(\n\u001b[1;32m    665\u001b[0m         \u001b[39m\"\u001b[39m\u001b[39mInvalid syntax for pseudo class \u001b[39m\u001b[39m'\u001b[39m\u001b[39m{}\u001b[39;00m\u001b[39m'\u001b[39m\u001b[39m\"\u001b[39m\u001b[39m.\u001b[39mformat(pseudo),\n\u001b[1;32m    666\u001b[0m         \u001b[39mself\u001b[39m\u001b[39m.\u001b[39mpattern,\n\u001b[1;32m    667\u001b[0m         m\u001b[39m.\u001b[39mstart(\u001b[39m0\u001b[39m)\n\u001b[1;32m    668\u001b[0m     )\n\u001b[1;32m    669\u001b[0m \u001b[39melse\u001b[39;00m:\n\u001b[1;32m    670\u001b[0m     \u001b[39mraise\u001b[39;00m \u001b[39mNotImplementedError\u001b[39;00m(\n\u001b[1;32m    671\u001b[0m         \u001b[39m\"\u001b[39m\u001b[39m'\u001b[39m\u001b[39m{}\u001b[39;00m\u001b[39m'\u001b[39m\u001b[39m pseudo-class is not implemented at this time\u001b[39m\u001b[39m\"\u001b[39m\u001b[39m.\u001b[39mformat(pseudo)\n\u001b[1;32m    672\u001b[0m     )\n",
      "\u001b[0;31mSelectorSyntaxError\u001b[0m: Invalid syntax for pseudo class ':nth-child'\n  line 1:\n#languageTable > table > tbody > tr:nth-child() > td:nth-child(3)\n                                   ^"
     ]
    }
   ],
   "source": [
    "fullaudio_list = []\n",
    "for i in range(len(language_list)):\n",
    "    if parsed_language[i].select_one(\"#languageTable > table > tbody > tr:nth-child() > td:nth-child(3)\").text == \"✔\":\n",
    "        fullaudio_list.append(language_list[i])\n",
    "\n",
    "print(fullaudio_list)\n",
    "\n",
    "\n"
   ]
  },
  {
   "cell_type": "code",
   "execution_count": 144,
   "metadata": {},
   "outputs": [
    {
     "data": {
      "text/plain": [
       "'✔'"
      ]
     },
     "execution_count": 144,
     "metadata": {},
     "output_type": "execute_result"
    }
   ],
   "source": [
    "parsed_language[0].select_one(\"td.checkcol > span\").text"
   ]
  },
  {
   "cell_type": "code",
   "execution_count": 109,
   "metadata": {},
   "outputs": [
    {
     "data": {
      "text/plain": [
       "[]"
      ]
     },
     "execution_count": 109,
     "metadata": {},
     "output_type": "execute_result"
    }
   ],
   "source": [
    "interface_list = []\n",
    "for i in range(len(language_list)):\n",
    "    try:\n",
    "        if parsed_language[i].select_one(\"td.checkcol > span\").text == '✔':\n",
    "            # interface_list에 해당 언어 c추가\n",
    "            interface_list.append(language_list[i])\n",
    "    except:\n",
    "        continue\n",
    "\n",
    "fullaudio_list = []\n",
    "for i in range(len(language_list)):\n",
    "    try:\n",
    "        if parsed_language[i].select_one(\"#languageTable > table > tbody > tr > td:nth-child(3)\").text == '✔':\n",
    "            fullaudio_list.append(language_list[i])\n",
    "    except:\n",
    "        continue\n",
    "    \n",
    "# 아무것도 안들어잇으면 0 넣어주기\n",
    "if len(fullaudio_list) == 0:\n",
    "    fullaudio_list.append(\"0\")\n",
    "\n",
    "subtitles_list = []\n",
    "for i in range(len(language_list)):\n",
    "    try:\n",
    "        if parsed_language[i].select_one(\"#languageTable > table > tbody > tr > td:nth-child(4)\").text == '✔':\n",
    "            subtitles_list.append(language_list[i])\n",
    "    except:\n",
    "        continue\n",
    "\n",
    "# # 아무것도 안들어잇으면 0 넣어주기\n",
    "# if len(subtitles_list) == 0:\n",
    "#     subtitles_list = \"0\"\n",
    "subtitles_list"
   ]
  },
  {
   "cell_type": "code",
   "execution_count": null,
   "metadata": {},
   "outputs": [],
   "source": []
  }
 ],
 "metadata": {
  "kernelspec": {
   "display_name": "Python 3.9.12 ('base')",
   "language": "python",
   "name": "python3"
  },
  "language_info": {
   "codemirror_mode": {
    "name": "ipython",
    "version": 3
   },
   "file_extension": ".py",
   "mimetype": "text/x-python",
   "name": "python",
   "nbconvert_exporter": "python",
   "pygments_lexer": "ipython3",
   "version": "3.9.12"
  },
  "orig_nbformat": 4,
  "vscode": {
   "interpreter": {
    "hash": "d05aae7b099001af6feb555819881cd4a687762a59fd9709d92d2dfda63b3869"
   }
  }
 },
 "nbformat": 4,
 "nbformat_minor": 2
}
