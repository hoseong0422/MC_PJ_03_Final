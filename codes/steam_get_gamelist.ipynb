{
 "cells": [
  {
   "cell_type": "code",
   "execution_count": 1,
   "metadata": {},
   "outputs": [],
   "source": [
    "from selenium import webdriver\n",
    "from selenium.webdriver.chrome.service import Service\n",
    "from webdriver_manager.chrome import ChromeDriverManager\n",
    "from selenium.webdriver.common.by import By\n",
    "from selenium.webdriver.common.keys import Keys\n",
    "from selenium.webdriver.support.ui import WebDriverWait\n",
    "from selenium.webdriver.support import expected_conditions as EC\n",
    "\n",
    "import time\n",
    "import json\n",
    "import re\n",
    "import pandas as pd\n",
    "import numpy as np\n",
    "import urllib \n",
    "import platform\n",
    "from bs4 import BeautifulSoup\n",
    "import requests"
   ]
  },
  {
   "cell_type": "code",
   "execution_count": 2,
   "metadata": {},
   "outputs": [],
   "source": [
    "# 맥이면 이렇게\n",
    "if platform.system() == 'Darwin':\n",
    "    def get_chrome_driver():\n",
    "        driver = webdriver.Chrome(\n",
    "            executable_path=\"/opt/homebrew/bin/chromedriver\"\n",
    "            )\n",
    "    \n",
    "        return driver\n",
    "\n",
    "# 윈도우면 이렇게\n",
    "elif platform.system() == 'Windows':\n",
    "    def get_chrome_driver():\n",
    "        # 1. 크롬 옵션 세팅\n",
    "        chrome_options = webdriver.ChromeOptions()\n",
    "\n",
    "        # 2. driver 생성하기\n",
    "        driver = webdriver.Chrome(\n",
    "            service=Service(ChromeDriverManager().install()), # 가장 많이 바뀐 부분\n",
    "           options=chrome_options\n",
    "        )\n",
    "    \n",
    "        return driver\n",
    "else:\n",
    "    print('Unknown System... sorry~~~~')"
   ]
  },
  {
   "cell_type": "code",
   "execution_count": null,
   "metadata": {},
   "outputs": [],
   "source": [
    "driver = get_chrome_driver()\n",
    "driver.get(\"https://store.steampowered.com/search/\")"
   ]
  },
  {
   "cell_type": "code",
   "execution_count": null,
   "metadata": {},
   "outputs": [],
   "source": [
    "for scroll in range(1100,10000000,2000):\n",
    "        driver.execute_script(f\"window.scrollTo(0, {scroll})\")\n",
    "        # 너무 빨리 내리면 추가 목록이 생기기 전에 스크롤 내리는 과정이 끝나버린다. 1초로 스크롤 텀 주기\n",
    "        time.sleep(1)"
   ]
  },
  {
   "cell_type": "code",
   "execution_count": null,
   "metadata": {},
   "outputs": [],
   "source": [
    "games = driver.find_element(By.CSS_SELECTOR, '#search_resultsRows')\n",
    "soup = BeautifulSoup(games.get_attribute(\"innerHTML\"), \"html.parser\")\n",
    "a= soup.find_all(\"a\")"
   ]
  },
  {
   "cell_type": "code",
   "execution_count": null,
   "metadata": {},
   "outputs": [],
   "source": [
    "link_list = []\n",
    "for i in a:\n",
    "    link_list.append(i['href'])\n",
    "    \n",
    "len(link_list)"
   ]
  },
  {
   "cell_type": "code",
   "execution_count": null,
   "metadata": {},
   "outputs": [],
   "source": [
    "df = pd.DataFrame(link_list, columns=[\"steam_link_list\"])\n",
    "df.to_csv(\"steam_link_list.csv\")"
   ]
  }
 ],
 "metadata": {
  "kernelspec": {
   "display_name": "Python 3.9.7 ('base')",
   "language": "python",
   "name": "python3"
  },
  "language_info": {
   "codemirror_mode": {
    "name": "ipython",
    "version": 3
   },
   "file_extension": ".py",
   "mimetype": "text/x-python",
   "name": "python",
   "nbconvert_exporter": "python",
   "pygments_lexer": "ipython3",
   "version": "3.9.7"
  },
  "orig_nbformat": 4,
  "vscode": {
   "interpreter": {
    "hash": "ad52552bef3a3882f8301c23167860a26cf1e425087675f87df25c255a8d90be"
   }
  }
 },
 "nbformat": 4,
 "nbformat_minor": 2
}
